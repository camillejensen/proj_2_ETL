{
 "cells": [
  {
   "cell_type": "code",
   "execution_count": null,
   "id": "cf46ce9d",
   "metadata": {},
   "outputs": [],
   "source": [
    "import pandas as pd\n",
    "import json\n",
    "import requests"
   ]
  },
  {
   "cell_type": "code",
   "execution_count": null,
   "id": "ae349bc2",
   "metadata": {},
   "outputs": [],
   "source": [
    "#import csv\n",
    "pd.options.display.max_colwidth = 200\n",
    "csv_df = pd.read_csv(\"../Resources/#INPUT#.csv\")\n",
    "csv_df "
   ]
  },
  {
   "cell_type": "code",
   "execution_count": null,
   "id": "2421a27f",
   "metadata": {},
   "outputs": [],
   "source": [
    "#import JSON\n"
   ]
  },
  {
   "cell_type": "code",
   "execution_count": null,
   "id": "8c277ca3",
   "metadata": {},
   "outputs": [],
   "source": [
    "#Drop columns we dont want\n",
    "csv_df= csv_df.drop(colmns=['latitude', 'longitude', 'location'])\n",
    "csv_df"
   ]
  },
  {
   "cell_type": "code",
   "execution_count": null,
   "id": "bd0bff77",
   "metadata": {},
   "outputs": [],
   "source": [
    "#column list: columns = list(orders_df)\n",
    "columns = list(csv_df)"
   ]
  },
  {
   "cell_type": "code",
   "execution_count": null,
   "id": "62875d9a",
   "metadata": {},
   "outputs": [],
   "source": [
    "#creat columns using list comp\n",
    "columns = ['orderId,productName,category,sellingPrice,shipping,totalPrice']\n",
    "\n",
    "# Split the column on the comma and place in a list.\n",
    "column_names = [column.split(\",\") for column in columns]\n",
    "print(column_names[0])"
   ]
  },
  {
   "cell_type": "code",
   "execution_count": null,
   "id": "eb57fe06",
   "metadata": {},
   "outputs": [],
   "source": [
    "# Split the column on the comma and place in a list.\n",
    "for column in columns:\n",
    "    column_names = column.split(\",\")\n",
    "print(column_names)"
   ]
  },
  {
   "cell_type": "code",
   "execution_count": null,
   "id": "9b2170bd",
   "metadata": {},
   "outputs": [],
   "source": [
    "# Get each row into a list.\n",
    "shoe_orders_values = orders_df.values.tolist()\n",
    "shoe_orders_values"
   ]
  },
  {
   "cell_type": "code",
   "execution_count": null,
   "id": "22e52d64",
   "metadata": {},
   "outputs": [],
   "source": [
    "shoe_orders_list = []\n",
    "for item in shoe_orders_values:\n",
    "    shoe_orders_list.append(item[0].split(\",\"))\n",
    "\n",
    "shoe_orders_list"
   ]
  },
  {
   "cell_type": "code",
   "execution_count": null,
   "id": "0a7cc1fa",
   "metadata": {},
   "outputs": [],
   "source": [
    "# Create a new DataFrame with the new column names and list of shoe orders\n",
    "shoe_orders_df = pd.DataFrame(shoe_orders_list, columns=new_columns[0])\n",
    "shoe_orders_df"
   ]
  },
  {
   "cell_type": "code",
   "execution_count": null,
   "id": "514667ad",
   "metadata": {},
   "outputs": [],
   "source": [
    "# Alternative method.\n",
    "shoe_orders_df = pd.DataFrame()\n",
    "shoe_orders_df[['Product ID', 'Category', 'Product', 'Size', 'Last Visited']] = orders_df['Product ID,Category,Product,Size,Last Visited'].str.split(',', n=5, expand=True)\n",
    "shoe_orders_df"
   ]
  },
  {
   "cell_type": "code",
   "execution_count": null,
   "id": "6546c3b8",
   "metadata": {},
   "outputs": [],
   "source": [
    "# Rename the columns. \n",
    "shoe_orders_df.rename(columns={'Product ID': \"productID\",\n",
    "                            'Category': \"category\",\n",
    "                            'Product': \"product\",\n",
    "                            'Size': \"size\",\n",
    "                            'Last Visited': \"lastvisited\"}, inplace=True)\n",
    "shoe_orders_df"
   ]
  },
  {
   "cell_type": "code",
   "execution_count": null,
   "id": "3b49aa30",
   "metadata": {},
   "outputs": [],
   "source": [
    "#Drop duplicates\n",
    "df.drop_duplicates"
   ]
  },
  {
   "cell_type": "code",
   "execution_count": null,
   "id": "006715f1",
   "metadata": {},
   "outputs": [],
   "source": []
  }
 ],
 "metadata": {
  "kernelspec": {
   "display_name": "Python 3 (ipykernel)",
   "language": "python",
   "name": "python3"
  },
  "language_info": {
   "codemirror_mode": {
    "name": "ipython",
    "version": 3
   },
   "file_extension": ".py",
   "mimetype": "text/x-python",
   "name": "python",
   "nbconvert_exporter": "python",
   "pygments_lexer": "ipython3",
   "version": "3.7.7"
  }
 },
 "nbformat": 4,
 "nbformat_minor": 5
}
